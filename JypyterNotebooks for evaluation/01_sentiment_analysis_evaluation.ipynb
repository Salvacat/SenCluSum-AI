{
  "cells": [
    {
      "cell_type": "markdown",
      "metadata": {},
      "source": [
        "Creation of a fine tunned version of Bert.\n",
        "The first block of code iterates through different combinations of learning rate and batch size to find the optimal setup. "
      ]
    },
    {
      "cell_type": "code",
      "execution_count": null,
      "metadata": {
        "colab": {
          "base_uri": "https://localhost:8080/",
          "height": 1000,
          "referenced_widgets": [
            "923eeec706ef407cb25f47fa356dfdc6",
            "28624dc371d942279272d087422efd76",
            "b6ed32d562b44d24bf26b0a62e48cd9d",
            "7b22ca8fa88c438ebcd98e8f5b4e7301",
            "1a6ab5e835794174890ca481e9bd7742",
            "9a6ecfe59e8941b9876d05aa23619306",
            "27b87513f3864437acb283be66640461",
            "6ecfce172bed40c29138e907dfb12555",
            "8cd77a01766c4a839c7f87fdab078f8a",
            "c2854ca995c64f0cb30793c943766fde",
            "22f8fdbd7c8a40f3a18c43c7968afa08"
          ]
        },
        "id": "1ClxPFinclng",
        "outputId": "6e6719b8-643d-4249-a72c-9db75c1636ad"
      },
      "outputs": [
        {
          "data": {
            "application/vnd.jupyter.widget-view+json": {
              "model_id": "923eeec706ef407cb25f47fa356dfdc6",
              "version_major": 2,
              "version_minor": 0
            },
            "text/plain": [
              "model.safetensors:   0%|          | 0.00/440M [00:00<?, ?B/s]"
            ]
          },
          "metadata": {},
          "output_type": "display_data"
        },
        {
          "name": "stderr",
          "output_type": "stream",
          "text": [
            "Some weights of BertForSequenceClassification were not initialized from the model checkpoint at bert-base-uncased and are newly initialized: ['classifier.bias', 'classifier.weight']\n",
            "You should probably TRAIN this model on a down-stream task to be able to use it for predictions and inference.\n",
            "[I 2024-10-15 09:25:59,564] A new study created in memory with name: no-name-4bbe7f21-e571-4fae-bb7c-2eef631dd582\n",
            "<ipython-input-4-5d7e156511af>:53: FutureWarning: suggest_loguniform has been deprecated in v3.0.0. This feature will be removed in v6.0.0. See https://github.com/optuna/optuna/releases/tag/v3.0.0. Use suggest_float(..., log=True) instead.\n",
            "  learning_rate = trial.suggest_loguniform('learning_rate', 1e-5, 5e-5)\n",
            "/usr/local/lib/python3.10/dist-packages/transformers/training_args.py:1525: FutureWarning: `evaluation_strategy` is deprecated and will be removed in version 4.46 of 🤗 Transformers. Use `eval_strategy` instead\n",
            "  warnings.warn(\n"
          ]
        },
        {
          "data": {
            "text/html": [
              "\n",
              "    <div>\n",
              "      \n",
              "      <progress value='10791' max='10791' style='width:300px; height:20px; vertical-align: middle;'></progress>\n",
              "      [10791/10791 36:45, Epoch 3/3]\n",
              "    </div>\n",
              "    <table border=\"1\" class=\"dataframe\">\n",
              "  <thead>\n",
              " <tr style=\"text-align: left;\">\n",
              "      <th>Epoch</th>\n",
              "      <th>Training Loss</th>\n",
              "      <th>Validation Loss</th>\n",
              "    </tr>\n",
              "  </thead>\n",
              "  <tbody>\n",
              "    <tr>\n",
              "      <td>1</td>\n",
              "      <td>0.185100</td>\n",
              "      <td>0.691796</td>\n",
              "    </tr>\n",
              "    <tr>\n",
              "      <td>2</td>\n",
              "      <td>0.868900</td>\n",
              "      <td>0.652615</td>\n",
              "    </tr>\n",
              "    <tr>\n",
              "      <td>3</td>\n",
              "      <td>0.095700</td>\n",
              "      <td>0.736608</td>\n",
              "    </tr>\n",
              "  </tbody>\n",
              "</table><p>"
            ],
            "text/plain": [
              "<IPython.core.display.HTML object>"
            ]
          },
          "metadata": {},
          "output_type": "display_data"
        },
        {
          "data": {
            "text/html": [
              "\n",
              "    <div>\n",
              "      \n",
              "      <progress value='400' max='400' style='width:300px; height:20px; vertical-align: middle;'></progress>\n",
              "      [400/400 00:22]\n",
              "    </div>\n",
              "    "
            ],
            "text/plain": [
              "<IPython.core.display.HTML object>"
            ]
          },
          "metadata": {},
          "output_type": "display_data"
        },
        {
          "name": "stderr",
          "output_type": "stream",
          "text": [
            "[I 2024-10-15 10:03:10,956] Trial 0 finished with value: 0.736607551574707 and parameters: {'learning_rate': 2.499883248337129e-05, 'batch_size': 8}. Best is trial 0 with value: 0.736607551574707.\n",
            "<ipython-input-4-5d7e156511af>:53: FutureWarning: suggest_loguniform has been deprecated in v3.0.0. This feature will be removed in v6.0.0. See https://github.com/optuna/optuna/releases/tag/v3.0.0. Use suggest_float(..., log=True) instead.\n",
            "  learning_rate = trial.suggest_loguniform('learning_rate', 1e-5, 5e-5)\n",
            "/usr/local/lib/python3.10/dist-packages/transformers/training_args.py:1525: FutureWarning: `evaluation_strategy` is deprecated and will be removed in version 4.46 of 🤗 Transformers. Use `eval_strategy` instead\n",
            "  warnings.warn(\n"
          ]
        },
        {
          "data": {
            "text/html": [
              "\n",
              "    <div>\n",
              "      \n",
              "      <progress value='10791' max='10791' style='width:300px; height:20px; vertical-align: middle;'></progress>\n",
              "      [10791/10791 36:19, Epoch 3/3]\n",
              "    </div>\n",
              "    <table border=\"1\" class=\"dataframe\">\n",
              "  <thead>\n",
              " <tr style=\"text-align: left;\">\n",
              "      <th>Epoch</th>\n",
              "      <th>Training Loss</th>\n",
              "      <th>Validation Loss</th>\n",
              "    </tr>\n",
              "  </thead>\n",
              "  <tbody>\n",
              "    <tr>\n",
              "      <td>1</td>\n",
              "      <td>0.086000</td>\n",
              "      <td>0.897126</td>\n",
              "    </tr>\n",
              "    <tr>\n",
              "      <td>2</td>\n",
              "      <td>0.411500</td>\n",
              "      <td>0.807973</td>\n",
              "    </tr>\n",
              "    <tr>\n",
              "      <td>3</td>\n",
              "      <td>0.024300</td>\n",
              "      <td>0.838050</td>\n",
              "    </tr>\n",
              "  </tbody>\n",
              "</table><p>"
            ],
            "text/plain": [
              "<IPython.core.display.HTML object>"
            ]
          },
          "metadata": {},
          "output_type": "display_data"
        },
        {
          "data": {
            "text/html": [
              "\n",
              "    <div>\n",
              "      \n",
              "      <progress value='400' max='400' style='width:300px; height:20px; vertical-align: middle;'></progress>\n",
              "      [400/400 00:22]\n",
              "    </div>\n",
              "    "
            ],
            "text/plain": [
              "<IPython.core.display.HTML object>"
            ]
          },
          "metadata": {},
          "output_type": "display_data"
        },
        {
          "name": "stderr",
          "output_type": "stream",
          "text": [
            "[I 2024-10-15 10:39:53,048] Trial 1 finished with value: 0.8380496501922607 and parameters: {'learning_rate': 3.8818978087838796e-05, 'batch_size': 8}. Best is trial 0 with value: 0.736607551574707.\n",
            "<ipython-input-4-5d7e156511af>:53: FutureWarning: suggest_loguniform has been deprecated in v3.0.0. This feature will be removed in v6.0.0. See https://github.com/optuna/optuna/releases/tag/v3.0.0. Use suggest_float(..., log=True) instead.\n",
            "  learning_rate = trial.suggest_loguniform('learning_rate', 1e-5, 5e-5)\n",
            "/usr/local/lib/python3.10/dist-packages/transformers/training_args.py:1525: FutureWarning: `evaluation_strategy` is deprecated and will be removed in version 4.46 of 🤗 Transformers. Use `eval_strategy` instead\n",
            "  warnings.warn(\n"
          ]
        },
        {
          "data": {
            "text/html": [
              "\n",
              "    <div>\n",
              "      \n",
              "      <progress value='10791' max='10791' style='width:300px; height:20px; vertical-align: middle;'></progress>\n",
              "      [10791/10791 36:23, Epoch 3/3]\n",
              "    </div>\n",
              "    <table border=\"1\" class=\"dataframe\">\n",
              "  <thead>\n",
              " <tr style=\"text-align: left;\">\n",
              "      <th>Epoch</th>\n",
              "      <th>Training Loss</th>\n",
              "      <th>Validation Loss</th>\n",
              "    </tr>\n",
              "  </thead>\n",
              "  <tbody>\n",
              "    <tr>\n",
              "      <td>1</td>\n",
              "      <td>0.000300</td>\n",
              "      <td>0.931019</td>\n",
              "    </tr>\n",
              "    <tr>\n",
              "      <td>2</td>\n",
              "      <td>0.289800</td>\n",
              "      <td>0.786981</td>\n",
              "    </tr>\n",
              "    <tr>\n",
              "      <td>3</td>\n",
              "      <td>0.000500</td>\n",
              "      <td>0.927093</td>\n",
              "    </tr>\n",
              "  </tbody>\n",
              "</table><p>"
            ],
            "text/plain": [
              "<IPython.core.display.HTML object>"
            ]
          },
          "metadata": {},
          "output_type": "display_data"
        },
        {
          "data": {
            "text/html": [
              "\n",
              "    <div>\n",
              "      \n",
              "      <progress value='400' max='400' style='width:300px; height:20px; vertical-align: middle;'></progress>\n",
              "      [400/400 00:22]\n",
              "    </div>\n",
              "    "
            ],
            "text/plain": [
              "<IPython.core.display.HTML object>"
            ]
          },
          "metadata": {},
          "output_type": "display_data"
        },
        {
          "name": "stderr",
          "output_type": "stream",
          "text": [
            "[I 2024-10-15 11:16:39,550] Trial 2 finished with value: 0.9270930886268616 and parameters: {'learning_rate': 4.076076205686867e-05, 'batch_size': 8}. Best is trial 0 with value: 0.736607551574707.\n",
            "<ipython-input-4-5d7e156511af>:53: FutureWarning: suggest_loguniform has been deprecated in v3.0.0. This feature will be removed in v6.0.0. See https://github.com/optuna/optuna/releases/tag/v3.0.0. Use suggest_float(..., log=True) instead.\n",
            "  learning_rate = trial.suggest_loguniform('learning_rate', 1e-5, 5e-5)\n",
            "/usr/local/lib/python3.10/dist-packages/transformers/training_args.py:1525: FutureWarning: `evaluation_strategy` is deprecated and will be removed in version 4.46 of 🤗 Transformers. Use `eval_strategy` instead\n",
            "  warnings.warn(\n"
          ]
        },
        {
          "data": {
            "text/html": [
              "\n",
              "    <div>\n",
              "      \n",
              "      <progress value='5397' max='5397' style='width:300px; height:20px; vertical-align: middle;'></progress>\n",
              "      [5397/5397 32:17, Epoch 3/3]\n",
              "    </div>\n",
              "    <table border=\"1\" class=\"dataframe\">\n",
              "  <thead>\n",
              " <tr style=\"text-align: left;\">\n",
              "      <th>Epoch</th>\n",
              "      <th>Training Loss</th>\n",
              "      <th>Validation Loss</th>\n",
              "    </tr>\n",
              "  </thead>\n",
              "  <tbody>\n",
              "    <tr>\n",
              "      <td>1</td>\n",
              "      <td>0.100400</td>\n",
              "      <td>1.089058</td>\n",
              "    </tr>\n",
              "    <tr>\n",
              "      <td>2</td>\n",
              "      <td>0.000100</td>\n",
              "      <td>1.092251</td>\n",
              "    </tr>\n",
              "    <tr>\n",
              "      <td>3</td>\n",
              "      <td>0.000400</td>\n",
              "      <td>1.206355</td>\n",
              "    </tr>\n",
              "  </tbody>\n",
              "</table><p>"
            ],
            "text/plain": [
              "<IPython.core.display.HTML object>"
            ]
          },
          "metadata": {},
          "output_type": "display_data"
        },
        {
          "data": {
            "text/html": [
              "\n",
              "    <div>\n",
              "      \n",
              "      <progress value='200' max='200' style='width:300px; height:20px; vertical-align: middle;'></progress>\n",
              "      [200/200 00:22]\n",
              "    </div>\n",
              "    "
            ],
            "text/plain": [
              "<IPython.core.display.HTML object>"
            ]
          },
          "metadata": {},
          "output_type": "display_data"
        },
        {
          "name": "stderr",
          "output_type": "stream",
          "text": [
            "[I 2024-10-15 11:49:20,212] Trial 3 finished with value: 1.2063547372817993 and parameters: {'learning_rate': 1.4051107733031436e-05, 'batch_size': 16}. Best is trial 0 with value: 0.736607551574707.\n",
            "<ipython-input-4-5d7e156511af>:53: FutureWarning: suggest_loguniform has been deprecated in v3.0.0. This feature will be removed in v6.0.0. See https://github.com/optuna/optuna/releases/tag/v3.0.0. Use suggest_float(..., log=True) instead.\n",
            "  learning_rate = trial.suggest_loguniform('learning_rate', 1e-5, 5e-5)\n",
            "/usr/local/lib/python3.10/dist-packages/transformers/training_args.py:1525: FutureWarning: `evaluation_strategy` is deprecated and will be removed in version 4.46 of 🤗 Transformers. Use `eval_strategy` instead\n",
            "  warnings.warn(\n"
          ]
        },
        {
          "data": {
            "text/html": [
              "\n",
              "    <div>\n",
              "      \n",
              "      <progress value='5397' max='5397' style='width:300px; height:20px; vertical-align: middle;'></progress>\n",
              "      [5397/5397 32:19, Epoch 3/3]\n",
              "    </div>\n",
              "    <table border=\"1\" class=\"dataframe\">\n",
              "  <thead>\n",
              " <tr style=\"text-align: left;\">\n",
              "      <th>Epoch</th>\n",
              "      <th>Training Loss</th>\n",
              "      <th>Validation Loss</th>\n",
              "    </tr>\n",
              "  </thead>\n",
              "  <tbody>\n",
              "    <tr>\n",
              "      <td>1</td>\n",
              "      <td>0.000200</td>\n",
              "      <td>1.283149</td>\n",
              "    </tr>\n",
              "    <tr>\n",
              "      <td>2</td>\n",
              "      <td>0.000300</td>\n",
              "      <td>1.104324</td>\n",
              "    </tr>\n",
              "    <tr>\n",
              "      <td>3</td>\n",
              "      <td>0.000500</td>\n",
              "      <td>1.146222</td>\n",
              "    </tr>\n",
              "  </tbody>\n",
              "</table><p>"
            ],
            "text/plain": [
              "<IPython.core.display.HTML object>"
            ]
          },
          "metadata": {},
          "output_type": "display_data"
        },
        {
          "data": {
            "text/html": [
              "\n",
              "    <div>\n",
              "      \n",
              "      <progress value='200' max='200' style='width:300px; height:20px; vertical-align: middle;'></progress>\n",
              "      [200/200 00:22]\n",
              "    </div>\n",
              "    "
            ],
            "text/plain": [
              "<IPython.core.display.HTML object>"
            ]
          },
          "metadata": {},
          "output_type": "display_data"
        },
        {
          "name": "stderr",
          "output_type": "stream",
          "text": [
            "[I 2024-10-15 12:22:03,167] Trial 4 finished with value: 1.1462218761444092 and parameters: {'learning_rate': 3.463212942513863e-05, 'batch_size': 16}. Best is trial 0 with value: 0.736607551574707.\n",
            "<ipython-input-4-5d7e156511af>:53: FutureWarning: suggest_loguniform has been deprecated in v3.0.0. This feature will be removed in v6.0.0. See https://github.com/optuna/optuna/releases/tag/v3.0.0. Use suggest_float(..., log=True) instead.\n",
            "  learning_rate = trial.suggest_loguniform('learning_rate', 1e-5, 5e-5)\n",
            "/usr/local/lib/python3.10/dist-packages/transformers/training_args.py:1525: FutureWarning: `evaluation_strategy` is deprecated and will be removed in version 4.46 of 🤗 Transformers. Use `eval_strategy` instead\n",
            "  warnings.warn(\n"
          ]
        },
        {
          "data": {
            "text/html": [
              "\n",
              "    <div>\n",
              "      \n",
              "      <progress value='5397' max='5397' style='width:300px; height:20px; vertical-align: middle;'></progress>\n",
              "      [5397/5397 32:22, Epoch 3/3]\n",
              "    </div>\n",
              "    <table border=\"1\" class=\"dataframe\">\n",
              "  <thead>\n",
              " <tr style=\"text-align: left;\">\n",
              "      <th>Epoch</th>\n",
              "      <th>Training Loss</th>\n",
              "      <th>Validation Loss</th>\n",
              "    </tr>\n",
              "  </thead>\n",
              "  <tbody>\n",
              "    <tr>\n",
              "      <td>1</td>\n",
              "      <td>0.483900</td>\n",
              "      <td>1.253259</td>\n",
              "    </tr>\n",
              "    <tr>\n",
              "      <td>2</td>\n",
              "      <td>0.000400</td>\n",
              "      <td>1.174316</td>\n",
              "    </tr>\n",
              "    <tr>\n",
              "      <td>3</td>\n",
              "      <td>0.000400</td>\n",
              "      <td>1.315877</td>\n",
              "    </tr>\n",
              "  </tbody>\n",
              "</table><p>"
            ],
            "text/plain": [
              "<IPython.core.display.HTML object>"
            ]
          },
          "metadata": {},
          "output_type": "display_data"
        },
        {
          "data": {
            "text/html": [
              "\n",
              "    <div>\n",
              "      \n",
              "      <progress value='200' max='200' style='width:300px; height:20px; vertical-align: middle;'></progress>\n",
              "      [200/200 00:22]\n",
              "    </div>\n",
              "    "
            ],
            "text/plain": [
              "<IPython.core.display.HTML object>"
            ]
          },
          "metadata": {},
          "output_type": "display_data"
        },
        {
          "name": "stderr",
          "output_type": "stream",
          "text": [
            "[I 2024-10-15 12:54:49,527] Trial 5 finished with value: 1.3158767223358154 and parameters: {'learning_rate': 3.2734521089259716e-05, 'batch_size': 16}. Best is trial 0 with value: 0.736607551574707.\n",
            "<ipython-input-4-5d7e156511af>:53: FutureWarning: suggest_loguniform has been deprecated in v3.0.0. This feature will be removed in v6.0.0. See https://github.com/optuna/optuna/releases/tag/v3.0.0. Use suggest_float(..., log=True) instead.\n",
            "  learning_rate = trial.suggest_loguniform('learning_rate', 1e-5, 5e-5)\n",
            "/usr/local/lib/python3.10/dist-packages/transformers/training_args.py:1525: FutureWarning: `evaluation_strategy` is deprecated and will be removed in version 4.46 of 🤗 Transformers. Use `eval_strategy` instead\n",
            "  warnings.warn(\n"
          ]
        },
        {
          "data": {
            "text/html": [
              "\n",
              "    <div>\n",
              "      \n",
              "      <progress value='10791' max='10791' style='width:300px; height:20px; vertical-align: middle;'></progress>\n",
              "      [10791/10791 36:43, Epoch 3/3]\n",
              "    </div>\n",
              "    <table border=\"1\" class=\"dataframe\">\n",
              "  <thead>\n",
              " <tr style=\"text-align: left;\">\n",
              "      <th>Epoch</th>\n",
              "      <th>Training Loss</th>\n",
              "      <th>Validation Loss</th>\n",
              "    </tr>\n",
              "  </thead>\n",
              "  <tbody>\n",
              "    <tr>\n",
              "      <td>1</td>\n",
              "      <td>0.000100</td>\n",
              "      <td>1.297799</td>\n",
              "    </tr>\n",
              "    <tr>\n",
              "      <td>2</td>\n",
              "      <td>0.520700</td>\n",
              "      <td>1.048946</td>\n",
              "    </tr>\n",
              "    <tr>\n",
              "      <td>3</td>\n",
              "      <td>0.000300</td>\n",
              "      <td>1.128104</td>\n",
              "    </tr>\n",
              "  </tbody>\n",
              "</table><p>"
            ],
            "text/plain": [
              "<IPython.core.display.HTML object>"
            ]
          },
          "metadata": {},
          "output_type": "display_data"
        },
        {
          "data": {
            "text/html": [
              "\n",
              "    <div>\n",
              "      \n",
              "      <progress value='400' max='400' style='width:300px; height:20px; vertical-align: middle;'></progress>\n",
              "      [400/400 00:22]\n",
              "    </div>\n",
              "    "
            ],
            "text/plain": [
              "<IPython.core.display.HTML object>"
            ]
          },
          "metadata": {},
          "output_type": "display_data"
        },
        {
          "name": "stderr",
          "output_type": "stream",
          "text": [
            "[I 2024-10-15 13:31:56,657] Trial 6 finished with value: 1.1281039714813232 and parameters: {'learning_rate': 1.2996127792021216e-05, 'batch_size': 8}. Best is trial 0 with value: 0.736607551574707.\n",
            "<ipython-input-4-5d7e156511af>:53: FutureWarning: suggest_loguniform has been deprecated in v3.0.0. This feature will be removed in v6.0.0. See https://github.com/optuna/optuna/releases/tag/v3.0.0. Use suggest_float(..., log=True) instead.\n",
            "  learning_rate = trial.suggest_loguniform('learning_rate', 1e-5, 5e-5)\n",
            "/usr/local/lib/python3.10/dist-packages/transformers/training_args.py:1525: FutureWarning: `evaluation_strategy` is deprecated and will be removed in version 4.46 of 🤗 Transformers. Use `eval_strategy` instead\n",
            "  warnings.warn(\n"
          ]
        },
        {
          "data": {
            "text/html": [
              "\n",
              "    <div>\n",
              "      \n",
              "      <progress value='2700' max='2700' style='width:300px; height:20px; vertical-align: middle;'></progress>\n",
              "      [2700/2700 30:00, Epoch 3/3]\n",
              "    </div>\n",
              "    <table border=\"1\" class=\"dataframe\">\n",
              "  <thead>\n",
              " <tr style=\"text-align: left;\">\n",
              "      <th>Epoch</th>\n",
              "      <th>Training Loss</th>\n",
              "      <th>Validation Loss</th>\n",
              "    </tr>\n",
              "  </thead>\n",
              "  <tbody>\n",
              "    <tr>\n",
              "      <td>1</td>\n",
              "      <td>0.001200</td>\n",
              "      <td>1.466028</td>\n",
              "    </tr>\n",
              "    <tr>\n",
              "      <td>2</td>\n",
              "      <td>0.019900</td>\n",
              "      <td>1.545278</td>\n",
              "    </tr>\n",
              "    <tr>\n",
              "      <td>3</td>\n",
              "      <td>0.000700</td>\n",
              "      <td>1.463925</td>\n",
              "    </tr>\n",
              "  </tbody>\n",
              "</table><p>"
            ],
            "text/plain": [
              "<IPython.core.display.HTML object>"
            ]
          },
          "metadata": {},
          "output_type": "display_data"
        },
        {
          "data": {
            "text/html": [
              "\n",
              "    <div>\n",
              "      \n",
              "      <progress value='100' max='100' style='width:300px; height:20px; vertical-align: middle;'></progress>\n",
              "      [100/100 00:20]\n",
              "    </div>\n",
              "    "
            ],
            "text/plain": [
              "<IPython.core.display.HTML object>"
            ]
          },
          "metadata": {},
          "output_type": "display_data"
        },
        {
          "name": "stderr",
          "output_type": "stream",
          "text": [
            "[I 2024-10-15 14:02:19,417] Trial 7 finished with value: 1.4639252424240112 and parameters: {'learning_rate': 1.2101953911159767e-05, 'batch_size': 32}. Best is trial 0 with value: 0.736607551574707.\n",
            "<ipython-input-4-5d7e156511af>:53: FutureWarning: suggest_loguniform has been deprecated in v3.0.0. This feature will be removed in v6.0.0. See https://github.com/optuna/optuna/releases/tag/v3.0.0. Use suggest_float(..., log=True) instead.\n",
            "  learning_rate = trial.suggest_loguniform('learning_rate', 1e-5, 5e-5)\n",
            "/usr/local/lib/python3.10/dist-packages/transformers/training_args.py:1525: FutureWarning: `evaluation_strategy` is deprecated and will be removed in version 4.46 of 🤗 Transformers. Use `eval_strategy` instead\n",
            "  warnings.warn(\n"
          ]
        },
        {
          "data": {
            "text/html": [
              "\n",
              "    <div>\n",
              "      \n",
              "      <progress value='10791' max='10791' style='width:300px; height:20px; vertical-align: middle;'></progress>\n",
              "      [10791/10791 37:47, Epoch 3/3]\n",
              "    </div>\n",
              "    <table border=\"1\" class=\"dataframe\">\n",
              "  <thead>\n",
              " <tr style=\"text-align: left;\">\n",
              "      <th>Epoch</th>\n",
              "      <th>Training Loss</th>\n",
              "      <th>Validation Loss</th>\n",
              "    </tr>\n",
              "  </thead>\n",
              "  <tbody>\n",
              "    <tr>\n",
              "      <td>1</td>\n",
              "      <td>0.000100</td>\n",
              "      <td>1.195901</td>\n",
              "    </tr>\n",
              "    <tr>\n",
              "      <td>2</td>\n",
              "      <td>0.198700</td>\n",
              "      <td>1.043761</td>\n",
              "    </tr>\n",
              "    <tr>\n",
              "      <td>3</td>\n",
              "      <td>0.000500</td>\n",
              "      <td>1.141171</td>\n",
              "    </tr>\n",
              "  </tbody>\n",
              "</table><p>"
            ],
            "text/plain": [
              "<IPython.core.display.HTML object>"
            ]
          },
          "metadata": {},
          "output_type": "display_data"
        },
        {
          "data": {
            "text/html": [
              "\n",
              "    <div>\n",
              "      \n",
              "      <progress value='400' max='400' style='width:300px; height:20px; vertical-align: middle;'></progress>\n",
              "      [400/400 00:22]\n",
              "    </div>\n",
              "    "
            ],
            "text/plain": [
              "<IPython.core.display.HTML object>"
            ]
          },
          "metadata": {},
          "output_type": "display_data"
        },
        {
          "name": "stderr",
          "output_type": "stream",
          "text": [
            "[I 2024-10-15 14:40:30,565] Trial 8 finished with value: 1.1411709785461426 and parameters: {'learning_rate': 2.4557578242704975e-05, 'batch_size': 8}. Best is trial 0 with value: 0.736607551574707.\n",
            "<ipython-input-4-5d7e156511af>:53: FutureWarning: suggest_loguniform has been deprecated in v3.0.0. This feature will be removed in v6.0.0. See https://github.com/optuna/optuna/releases/tag/v3.0.0. Use suggest_float(..., log=True) instead.\n",
            "  learning_rate = trial.suggest_loguniform('learning_rate', 1e-5, 5e-5)\n",
            "/usr/local/lib/python3.10/dist-packages/transformers/training_args.py:1525: FutureWarning: `evaluation_strategy` is deprecated and will be removed in version 4.46 of 🤗 Transformers. Use `eval_strategy` instead\n",
            "  warnings.warn(\n"
          ]
        },
        {
          "data": {
            "text/html": [
              "\n",
              "    <div>\n",
              "      \n",
              "      <progress value='2700' max='2700' style='width:300px; height:20px; vertical-align: middle;'></progress>\n",
              "      [2700/2700 29:32, Epoch 3/3]\n",
              "    </div>\n",
              "    <table border=\"1\" class=\"dataframe\">\n",
              "  <thead>\n",
              " <tr style=\"text-align: left;\">\n",
              "      <th>Epoch</th>\n",
              "      <th>Training Loss</th>\n",
              "      <th>Validation Loss</th>\n",
              "    </tr>\n",
              "  </thead>\n",
              "  <tbody>\n",
              "    <tr>\n",
              "      <td>1</td>\n",
              "      <td>0.000500</td>\n",
              "      <td>1.594408</td>\n",
              "    </tr>\n",
              "    <tr>\n",
              "      <td>2</td>\n",
              "      <td>0.037700</td>\n",
              "      <td>1.529620</td>\n",
              "    </tr>\n",
              "    <tr>\n",
              "      <td>3</td>\n",
              "      <td>0.000700</td>\n",
              "      <td>1.547791</td>\n",
              "    </tr>\n",
              "  </tbody>\n",
              "</table><p>"
            ],
            "text/plain": [
              "<IPython.core.display.HTML object>"
            ]
          },
          "metadata": {},
          "output_type": "display_data"
        },
        {
          "data": {
            "text/html": [
              "\n",
              "    <div>\n",
              "      \n",
              "      <progress value='100' max='100' style='width:300px; height:20px; vertical-align: middle;'></progress>\n",
              "      [100/100 00:20]\n",
              "    </div>\n",
              "    "
            ],
            "text/plain": [
              "<IPython.core.display.HTML object>"
            ]
          },
          "metadata": {},
          "output_type": "display_data"
        },
        {
          "name": "stderr",
          "output_type": "stream",
          "text": [
            "[I 2024-10-15 15:10:24,419] Trial 9 finished with value: 1.5477913618087769 and parameters: {'learning_rate': 1.380070590946973e-05, 'batch_size': 32}. Best is trial 0 with value: 0.736607551574707.\n"
          ]
        },
        {
          "name": "stdout",
          "output_type": "stream",
          "text": [
            "Best parameters found by Optuna: {'learning_rate': 2.499883248337129e-05, 'batch_size': 8}\n"
          ]
        },
        {
          "ename": "NameError",
          "evalue": "name 'WeightedLossTrainer' is not defined",
          "output_type": "error",
          "traceback": [
            "\u001b[0;31m---------------------------------------------------------------------------\u001b[0m",
            "\u001b[0;31mNameError\u001b[0m                                 Traceback (most recent call last)",
            "\u001b[0;32m<ipython-input-4-5d7e156511af>\u001b[0m in \u001b[0;36m<cell line: 103>\u001b[0;34m()\u001b[0m\n\u001b[1;32m    101\u001b[0m \u001b[0;34m\u001b[0m\u001b[0m\n\u001b[1;32m    102\u001b[0m \u001b[0;31m# After training, evaluate based on negative sentiment precision\u001b[0m\u001b[0;34m\u001b[0m\u001b[0;34m\u001b[0m\u001b[0m\n\u001b[0;32m--> 103\u001b[0;31m trainer = WeightedLossTrainer(\n\u001b[0m\u001b[1;32m    104\u001b[0m     \u001b[0mmodel\u001b[0m\u001b[0;34m=\u001b[0m\u001b[0mmodel\u001b[0m\u001b[0;34m,\u001b[0m\u001b[0;34m\u001b[0m\u001b[0;34m\u001b[0m\u001b[0m\n\u001b[1;32m    105\u001b[0m     \u001b[0margs\u001b[0m\u001b[0;34m=\u001b[0m\u001b[0mtraining_args\u001b[0m\u001b[0;34m,\u001b[0m\u001b[0;34m\u001b[0m\u001b[0;34m\u001b[0m\u001b[0m\n",
            "\u001b[0;31mNameError\u001b[0m: name 'WeightedLossTrainer' is not defined"
          ]
        }
      ],
      "source": [
        "import torch\n",
        "from transformers import BertTokenizer, BertForSequenceClassification, Trainer, TrainingArguments\n",
        "from torch.utils.data import Dataset\n",
        "import numpy as np\n",
        "from sklearn.model_selection import train_test_split\n",
        "from sklearn.utils.class_weight import compute_class_weight\n",
        "import pandas as pd\n",
        "import optuna\n",
        "from sklearn.metrics import classification_report, precision_score\n",
        "\n",
        "# Prepare the tokenizer for BERT\n",
        "tokenizer = BertTokenizer.from_pretrained('bert-base-uncased')\n",
        "\n",
        "# Define a custom dataset class\n",
        "class SentimentDataset(Dataset):\n",
        "    def __init__(self, texts, labels=None):\n",
        "        self.encodings = tokenizer(texts, truncation=True, padding=True, max_length=128)\n",
        "        self.labels = labels\n",
        "\n",
        "    def __getitem__(self, idx):\n",
        "        item = {key: torch.tensor(val[idx]) for key, val in self.encodings.items()}\n",
        "        if self.labels is not None:\n",
        "            item['labels'] = torch.tensor(self.labels[idx])\n",
        "        return item\n",
        "\n",
        "    def __len__(self):\n",
        "        return len(self.encodings.input_ids)\n",
        "\n",
        "# Load the dataset\n",
        "deberta_df = pd.read_csv('filtered_data.csv')\n",
        "texts = deberta_df['reviews.text'].astype(str).fillna('').tolist()\n",
        "deberta_df['sentiment'] = deberta_df['reviews.rating'].map(lambda x: 'negative' if x in [1, 2] else ('neutral' if x == 3 else 'positive'))\n",
        "labels = deberta_df['sentiment'].map({'negative': 0, 'neutral': 1, 'positive': 2}).tolist()\n",
        "\n",
        "# Split the data into training and validation sets\n",
        "train_texts, val_texts, train_labels, val_labels = train_test_split(texts, labels, test_size=0.1, stratify=labels)\n",
        "train_dataset = SentimentDataset(train_texts, train_labels)\n",
        "val_dataset = SentimentDataset(val_texts, val_labels)\n",
        "\n",
        "# Ensure GPU usage\n",
        "device = 'cuda' if torch.cuda.is_available() else 'cpu'\n",
        "\n",
        "# Compute class weights to handle class imbalance\n",
        "class_weights = compute_class_weight(class_weight='balanced', classes=np.unique(labels), y=labels)\n",
        "class_weights = torch.tensor(class_weights, dtype=torch.float).to(device)\n",
        "\n",
        "# Load BERT model with classification head\n",
        "model = BertForSequenceClassification.from_pretrained('bert-base-uncased', num_labels=3).to(device)\n",
        "\n",
        "# Objective Function for Hyperparameter Tuning\n",
        "def objective(trial):\n",
        "    # Define hyperparameters to tune\n",
        "    learning_rate = trial.suggest_loguniform('learning_rate', 1e-5, 5e-5)\n",
        "    batch_size = trial.suggest_categorical('batch_size', [8, 16, 32])\n",
        "\n",
        "    # Set training arguments\n",
        "    training_args = TrainingArguments(\n",
        "        output_dir='./results',\n",
        "        num_train_epochs=3,\n",
        "        per_device_train_batch_size=batch_size,\n",
        "        per_device_eval_batch_size=batch_size,\n",
        "        warmup_steps=100,\n",
        "        evaluation_strategy=\"epoch\",\n",
        "        save_strategy=\"epoch\",\n",
        "        logging_dir='./logs',\n",
        "        logging_steps=10,\n",
        "        report_to=\"none\",\n",
        "        learning_rate=learning_rate\n",
        "    )"
      ]
    },
    {
      "cell_type": "markdown",
      "metadata": {},
      "source": [
        "This next block takes in the best parameters found in the iterative block prior and trains the model"
      ]
    },
    {
      "cell_type": "code",
      "execution_count": null,
      "metadata": {
        "colab": {
          "base_uri": "https://localhost:8080/",
          "height": 432
        },
        "id": "PIlXrT8Zw-Ga",
        "outputId": "94640890-97fb-4db7-d381-650d41f7056b"
      },
      "outputs": [
        {
          "name": "stderr",
          "output_type": "stream",
          "text": [
            "/usr/local/lib/python3.10/dist-packages/transformers/training_args.py:1525: FutureWarning: `evaluation_strategy` is deprecated and will be removed in version 4.46 of 🤗 Transformers. Use `eval_strategy` instead\n",
            "  warnings.warn(\n"
          ]
        },
        {
          "data": {
            "text/html": [
              "\n",
              "    <div>\n",
              "      \n",
              "      <progress value='10791' max='10791' style='width:300px; height:20px; vertical-align: middle;'></progress>\n",
              "      [10791/10791 36:24, Epoch 3/3]\n",
              "    </div>\n",
              "    <table border=\"1\" class=\"dataframe\">\n",
              "  <thead>\n",
              " <tr style=\"text-align: left;\">\n",
              "      <th>Epoch</th>\n",
              "      <th>Training Loss</th>\n",
              "      <th>Validation Loss</th>\n",
              "    </tr>\n",
              "  </thead>\n",
              "  <tbody>\n",
              "    <tr>\n",
              "      <td>1</td>\n",
              "      <td>0.000200</td>\n",
              "      <td>1.186153</td>\n",
              "    </tr>\n",
              "    <tr>\n",
              "      <td>2</td>\n",
              "      <td>0.207800</td>\n",
              "      <td>1.023660</td>\n",
              "    </tr>\n",
              "    <tr>\n",
              "      <td>3</td>\n",
              "      <td>0.000300</td>\n",
              "      <td>1.041046</td>\n",
              "    </tr>\n",
              "  </tbody>\n",
              "</table><p>"
            ],
            "text/plain": [
              "<IPython.core.display.HTML object>"
            ]
          },
          "metadata": {},
          "output_type": "display_data"
        },
        {
          "data": {
            "text/html": [],
            "text/plain": [
              "<IPython.core.display.HTML object>"
            ]
          },
          "metadata": {},
          "output_type": "display_data"
        },
        {
          "name": "stdout",
          "output_type": "stream",
          "text": [
            "Classification Report:\n",
            "               precision    recall  f1-score   support\n",
            "\n",
            "    negative       0.89      0.84      0.86       166\n",
            "     neutral       0.80      0.63      0.70       134\n",
            "    positive       0.98      1.00      0.99      2898\n",
            "\n",
            "    accuracy                           0.97      3198\n",
            "   macro avg       0.89      0.82      0.85      3198\n",
            "weighted avg       0.97      0.97      0.97      3198\n",
            "\n",
            "Negative Precision: 0.8910256410256411\n"
          ]
        }
      ],
      "source": [
        "class WeightedLossTrainer(Trainer):\n",
        "    def compute_loss(self, model, inputs, return_outputs=False):\n",
        "        labels = inputs.pop(\"labels\")\n",
        "        inputs = {k: v.to(device) for k, v in inputs.items()}\n",
        "        labels = labels.to(device)\n",
        "        outputs = model(**inputs)\n",
        "        logits = outputs.logits\n",
        "        loss_fct = torch.nn.CrossEntropyLoss(weight=class_weights)\n",
        "        loss = loss_fct(logits, labels)\n",
        "        return (loss, outputs) if return_outputs else loss\n",
        "# Use best parameters to reinitialize training arguments\n",
        "training_args = TrainingArguments(\n",
        "    output_dir='./results',\n",
        "    num_train_epochs=3,\n",
        "    per_device_train_batch_size=best_params['batch_size'],\n",
        "    per_device_eval_batch_size=best_params['batch_size'],\n",
        "    warmup_steps=100,\n",
        "    evaluation_strategy=\"epoch\",\n",
        "    save_strategy=\"epoch\",\n",
        "    logging_dir='./logs',\n",
        "    logging_steps=10,\n",
        "    report_to=\"none\",\n",
        "    learning_rate=best_params['learning_rate']\n",
        ")\n",
        "\n",
        "# After training, evaluate based on negative sentiment precision\n",
        "trainer = WeightedLossTrainer(\n",
        "    model=model,\n",
        "    args=training_args,\n",
        "    train_dataset=train_dataset,\n",
        "    eval_dataset=val_dataset\n",
        ")\n",
        "\n",
        "# Train the model using the best parameters found\n",
        "trainer.train()\n",
        "preds_output = trainer.predict(val_dataset)\n",
        "preds = np.argmax(preds_output.predictions, axis=1)\n",
        "\n",
        "# Evaluate model based on precision of predicting negative sentiment\n",
        "report = classification_report(val_labels, preds, target_names=['negative', 'neutral', 'positive'])\n",
        "negative_precision = precision_score(val_labels, preds, average=None)[0]  # 0 corresponds to 'negative'\n",
        "print(\"Classification Report:\\n\", report)\n",
        "print(\"Negative Precision:\", negative_precision)"
      ]
    },
    {
      "cell_type": "code",
      "execution_count": null,
      "metadata": {
        "colab": {
          "base_uri": "https://localhost:8080/"
        },
        "id": "uEOWbw5DlkFS",
        "outputId": "9e4d175a-c6b7-4c11-b111-e29a9824a0c5"
      },
      "outputs": [
        {
          "data": {
            "text/plain": [
              "('./bert_pretrained/tokenizer_config.json',\n",
              " './bert_pretrained/special_tokens_map.json',\n",
              " './bert_pretrained/vocab.txt',\n",
              " './bert_pretrained/added_tokens.json')"
            ]
          },
          "execution_count": 7,
          "metadata": {},
          "output_type": "execute_result"
        }
      ],
      "source": [
        "# Save the model in the same directory\n",
        "model.save_pretrained('./bert_pretrained')\n",
        "tokenizer.save_pretrained('./bert_pretrained')\n",
        "\n"
      ]
    },
    {
      "cell_type": "markdown",
      "metadata": {},
      "source": [
        "Should you already have the fine tuned model saved, you can start from here to create predictions on your data set. The first blockl of code is intended as evaluation."
      ]
    },
    {
      "cell_type": "code",
      "execution_count": null,
      "metadata": {
        "colab": {
          "base_uri": "https://localhost:8080/",
          "height": 1000
        },
        "id": "s2VwGEXKmX9L",
        "outputId": "df836f1e-59d3-4ae0-8c51-b8f83ae9ed5a"
      },
      "outputs": [
        {
          "data": {
            "text/html": [],
            "text/plain": [
              "<IPython.core.display.HTML object>"
            ]
          },
          "metadata": {},
          "output_type": "display_data"
        },
        {
          "name": "stdout",
          "output_type": "stream",
          "text": [
            "Accuracy: 0.9718574108818011\n",
            "Weighted Precision: 0.9699189358727272\n",
            "Weighted Recall: 0.9718574108818011\n",
            "Weighted F1 Score: 0.9703647474846679\n",
            "\n",
            "Classification Report:\n",
            "               precision    recall  f1-score   support\n",
            "\n",
            "    negative       0.89      0.84      0.86       166\n",
            "     neutral       0.80      0.63      0.70       134\n",
            "    positive       0.98      1.00      0.99      2898\n",
            "\n",
            "    accuracy                           0.97      3198\n",
            "   macro avg       0.89      0.82      0.85      3198\n",
            "weighted avg       0.97      0.97      0.97      3198\n",
            "\n"
          ]
        },
        {
          "data": {
            "image/png": "[encoded data removed]",
            "text/plain": [
              "<Figure size 800x600 with 2 Axes>"
            ]
          },
          "metadata": {},
          "output_type": "display_data"
        },
        {
          "name": "stdout",
          "output_type": "stream",
          "text": [
            "\n",
            "Sample 20 Predictions for Rating 'negative':\n",
            "Text: now i know why these are so inexpensive im baffled as to how theyve earned such high reviews ive use... | Actual: negative | Predicted: negative\n",
            "Text: really good price for a reason first two batteries i used were dead do not waste your money... | Actual: negative | Predicted: negative\n",
            "Text: not worth a crap dont waist your money i purchased these for under cabinet lighting and they hardly ... | Actual: negative | Predicted: negative\n",
            "Text: not suitable for toys drained within just a couple of days... | Actual: negative | Predicted: negative\n",
            "Text: i had to return this product as it was not compatible with things such as facebook and itunes which ... | Actual: negative | Predicted: negative\n",
            "Text: touch response is not so good so my kid refused to play games on thisreturned this product thanks to... | Actual: negative | Predicted: negative\n",
            "Text: they dont seem to work except in very low energy items cant get them to work in my remotes or in a m... | Actual: negative | Predicted: negative\n",
            "Text: only lasts half as long as the rayovacs i usually purchase... | Actual: negative | Predicted: negative\n",
            "Text: we tried these batteries out but theyre trash they lasted only 23 weeks in our tivo remotes which is... | Actual: negative | Predicted: negative\n",
            "Text: bummed these batteries do not last long good for things like a clicker or something that isnt used o... | Actual: negative | Predicted: negative\n",
            "Text: they were dead im baffled... | Actual: negative | Predicted: negative\n",
            "Text: i loved these batteries until 2 nights ago when one exploded in my camera flash not worth saving mon... | Actual: negative | Predicted: negative\n",
            "Text: you get what you pay for here these are cheap batteries and dont last very long id spend the extra a... | Actual: negative | Predicted: negative\n",
            "Text: multiple batteries leaked ruining one toy and causing messes in other items poor quality... | Actual: negative | Predicted: negative\n",
            "Text: the charging plugs on these kindle damage way to easy i am very disappointed as this is not the firs... | Actual: negative | Predicted: negative\n",
            "Text: i love amazon and amazon products butmajor disappointment while not much less cost that duracell or ... | Actual: negative | Predicted: negative\n",
            "Text: was looking for a tablet for my young daughter this was on sale and had good reviews after consultin... | Actual: negative | Predicted: negative\n",
            "Text: trying to contact seller product very tarnished and rusty like its been used or very old very disapp... | Actual: negative | Predicted: negative\n",
            "Text: absolute junk my devices run only 3  5 days with these batteries and probably half have been dead wh... | Actual: negative | Predicted: negative\n",
            "Text: terrible didnt last 2 weeks... | Actual: negative | Predicted: negative\n",
            "\n",
            "Sample 20 Predictions for Rating 'neutral':\n",
            "Text: it is an ok device but i find google home to be better and more promising in the future... | Actual: neutral | Predicted: positive\n",
            "Text: i was hoping to use google launcher with this tablet but it is really locked down and you cannot cha... | Actual: neutral | Predicted: neutral\n",
            "Text: i ordered this online on black friday i live about 30 miles from nearest store and i saw the special... | Actual: neutral | Predicted: neutral\n",
            "Text: have had it for a while noe a littlebit unusual to press so hard to change page but now starting to ... | Actual: neutral | Predicted: neutral\n",
            "Text: for the price it cant be beat that being said i had to return mine after a week i just couldnt get o... | Actual: neutral | Predicted: neutral\n",
            "Text: the batteries are such a great deal but dont have the strength needed to run certain toys we hve a s... | Actual: neutral | Predicted: neutral\n",
            "Text: its a little slow and the camera isnt the best but for the price its fine... | Actual: neutral | Predicted: neutral\n",
            "Text: like the alexa but needs to be more interactive like suri... | Actual: neutral | Predicted: positive\n",
            "Text: battery life is very long and the sound is surprisingly good alexa is not as smart as the marketing ... | Actual: neutral | Predicted: positive\n",
            "Text: bought this for my parents as they have an aging 3rd generation firehd that tablet cost well over 30... | Actual: neutral | Predicted: positive\n",
            "Text: adequate performance i just pulled 16 batteries from four night lights half of these were the amazon... | Actual: neutral | Predicted: negative\n",
            "Text: they have a short shelf life... | Actual: neutral | Predicted: negative\n",
            "Text: clear reading in bright light outdoor settings long battery life... | Actual: neutral | Predicted: neutral\n",
            "Text: decent batteries ok life... | Actual: neutral | Predicted: positive\n",
            "Text: worse graphics wont keep a wireless connectionoverall not satisfied... | Actual: neutral | Predicted: neutral\n",
            "Text: it is affordable and it had increased storage but no backlight and the screen could be better... | Actual: neutral | Predicted: positive\n",
            "Text: works fine on wifi otherwise a little slow my kid enjoys it though for the price its good... | Actual: neutral | Predicted: positive\n",
            "Text: my toddler did not like this tablet it was a bit slow for her instead she preferred an ipad over the... | Actual: neutral | Predicted: neutral\n",
            "Text: okay but do not last long... | Actual: neutral | Predicted: neutral\n",
            "Text: these batteries are only ok they dont last as long as duracell and when they die its usually instant... | Actual: neutral | Predicted: neutral\n",
            "\n",
            "Sample 20 Predictions for Rating 'positive':\n",
            "Text: we have the original echo two echo dots and the echo show to complete the family  love the ability t... | Actual: positive | Predicted: positive\n",
            "Text: i got this tablet for black friday at a decent price its 8 inches you can add more space with a micr... | Actual: positive | Predicted: positive\n",
            "Text: so far so good with the kindle fire hd still need to play with it to see how to maximize our use... | Actual: positive | Predicted: positive\n",
            "Text: amazon echo show working very well as expected and thanks to amazon for adding more features on regu... | Actual: positive | Predicted: positive\n",
            "Text: this is my 2nd tablet and it works great with downloading... | Actual: positive | Predicted: positive\n",
            "Text: easy to use for children multiple color tablet covers... | Actual: positive | Predicted: positive\n",
            "Text: my children love these kindles they are so much better then the 1st ones we had  the price is better... | Actual: positive | Predicted: positive\n",
            "Text: im pretty impressed with the technology its a little annoying having to say alexa all the time ive p... | Actual: positive | Predicted: positive\n",
            "Text: this speaker is great for the price i love how the speaker is 360 degrees so you get the same sound ... | Actual: positive | Predicted: positive\n",
            "Text: great 8 inches tablet with and amazing storage for apps... | Actual: positive | Predicted: positive\n",
            "Text: i pickup the kindle fire tablets for some of my clients as a gift and they love it... | Actual: positive | Predicted: positive\n",
            "Text: perfect balance between a small and large tablet with hd... | Actual: positive | Predicted: positive\n",
            "Text: great prices will see if they last as long as duracell... | Actual: positive | Predicted: positive\n",
            "Text: needed to replace the old nook looked at the fire and was a little unsure at this price though you g... | Actual: positive | Predicted: positive\n",
            "Text: piece of mind that the little one wont wonder the world wide web and be exposed to things no parent ... | Actual: positive | Predicted: positive\n",
            "Text: aaa... | Actual: positive | Predicted: positive\n",
            "Text: decent batteries at a pretty good price i will buy again... | Actual: positive | Predicted: positive\n",
            "Text: great value for the money while i cannot compare this to any other batteries lifespan they have been... | Actual: positive | Predicted: positive\n",
            "Text: work well and cheaper than name brand batteries you buy at the store... | Actual: positive | Predicted: positive\n",
            "Text: im a big echo fan so this seemed like a no brainer i like it a lot but im disappointed about google ... | Actual: positive | Predicted: negative\n"
          ]
        }
      ],
      "source": [
        "import numpy as np\n",
        "import matplotlib.pyplot as plt\n",
        "from sklearn.metrics import accuracy_score, precision_score, recall_score, f1_score, confusion_matrix, classification_report\n",
        "import pandas as pd\n",
        "\n",
        "def evaluate_model(trainer, val_dataset, val_labels, val_texts):\n",
        "    # Get predictions from the validation dataset\n",
        "    preds_output = trainer.predict(val_dataset)\n",
        "    # Get the predicted labels by taking the argmax of the prediction logits\n",
        "    preds = np.argmax(preds_output.predictions, axis=1)\n",
        "\n",
        "    # Calculate evaluation metrics\n",
        "    accuracy = accuracy_score(val_labels, preds)  # Overall accuracy of predictions\n",
        "    precision = precision_score(val_labels, preds, average='weighted')  # Weighted average precision\n",
        "    recall = recall_score(val_labels, preds, average='weighted')  # Weighted average recall\n",
        "    f1 = f1_score(val_labels, preds, average='weighted')  # Weighted average F1 score\n",
        "\n",
        "    # Print evaluation metrics\n",
        "    print(\"Accuracy:\", accuracy)\n",
        "    print(\"Weighted Precision:\", precision)\n",
        "    print(\"Weighted Recall:\", recall)\n",
        "    print(\"Weighted F1 Score:\", f1)\n",
        "\n",
        "    # Print classification report for per-class metrics\n",
        "    target_names = ['negative', 'neutral', 'positive']\n",
        "    report = classification_report(val_labels, preds, target_names=target_names)\n",
        "    print(\"\\nClassification Report:\\n\", report)\n",
        "\n",
        "    # Confusion Matrix\n",
        "    cm = confusion_matrix(val_labels, preds)\n",
        "    plot_confusion_matrix(cm, target_names)  # Plot the confusion matrix\n",
        "\n",
        "    # Print 20 items per rating from validation dataset\n",
        "    print_sample_predictions(val_texts, val_labels, preds)  # Print sample predictions for each class\n",
        "\n",
        "def plot_confusion_matrix(cm, class_names):\n",
        "    # Create a figure to visualize the confusion matrix\n",
        "    fig, ax = plt.subplots(figsize=(8, 6))\n",
        "    # Display the confusion matrix with a color map\n",
        "    cax = ax.matshow(cm, cmap=plt.cm.Blues)\n",
        "    plt.title('Confusion Matrix')\n",
        "    # Add a color bar to provide context to the values\n",
        "    fig.colorbar(cax)\n",
        "    # Set the x and y axis labels to the class names\n",
        "    ax.set_xticks(np.arange(len(class_names)))\n",
        "    ax.set_yticks(np.arange(len(class_names)))\n",
        "    ax.set_xticklabels(class_names)\n",
        "    ax.set_yticklabels(class_names)\n",
        "\n",
        "    # Annotate each cell with the corresponding count\n",
        "    for i in range(cm.shape[0]):\n",
        "        for j in range(cm.shape[1]):\n",
        "            plt.text(j, i, format(cm[i, j], 'd'), ha='center', va='center', color='black')\n",
        "\n",
        "    plt.xlabel('Predicted')  # Label x-axis as 'Predicted'\n",
        "    plt.ylabel('Actual')  # Label y-axis as 'Actual'\n",
        "    plt.show()  # Show the plot\n",
        "\n",
        "def print_sample_predictions(val_texts, val_labels, preds, num_samples=20):\n",
        "    # Create a DataFrame to organize and filter data easily\n",
        "    data = pd.DataFrame({\n",
        "        'Text': val_texts,\n",
        "        'Actual': val_labels,\n",
        "        'Predicted': preds\n",
        "    })\n",
        "\n",
        "    target_names = ['negative', 'neutral', 'positive']\n",
        "    # Loop through each class (negative, neutral, positive)\n",
        "    for i, name in enumerate(target_names):\n",
        "        print(f\"\\nSample {num_samples} Predictions for Rating '{name}':\")\n",
        "        # Sample up to 'num_samples' rows from the DataFrame where the actual label matches the current class\n",
        "        samples = data[data['Actual'] == i].sample(n=min(num_samples, len(data[data['Actual'] == i])))\n",
        "        # Print each sampled text with its actual and predicted labels\n",
        "        for idx, row in samples.iterrows():\n",
        "            print(f\"Text: {row['Text'][:100]}... | Actual: {target_names[row['Actual']]} | Predicted: {target_names[row['Predicted']]}\")\n",
        "\n",
        "# Evaluate the model\n",
        "evaluate_model(trainer, val_dataset, val_labels, val_texts)"
      ]
    },
    {
      "cell_type": "markdown",
      "metadata": {},
      "source": [
        "This block of code creates predictions over the whole dataset and outputs a csv file that includes a new column with the predictions. "
      ]
    },
    {
      "cell_type": "code",
      "execution_count": null,
      "metadata": {
        "colab": {
          "base_uri": "https://localhost:8080/"
        },
        "id": "Id2waMYS-dx5",
        "outputId": "7a4645be-0d3b-4c91-fd13-1414b3d1ec77"
      },
      "outputs": [
        {
          "name": "stdout",
          "output_type": "stream",
          "text": [
            "Predictions have been added to 'filtered_data_with_predictions.csv'.\n"
          ]
        }
      ],
      "source": [
        "\n",
        "# Define function to get predictions with BERT model\n",
        "def predict_sentiment(texts, batch_size=16):\n",
        "    predictions = []\n",
        "    model.eval()\n",
        "    for i in range(0, len(texts), batch_size):\n",
        "        batch_texts = texts[i:i + batch_size]\n",
        "        inputs = tokenizer(batch_texts, return_tensors='pt', padding=True, truncation=True, max_length=512)\n",
        "        inputs = {k: v.to(device) for k, v in inputs.items()}\n",
        "        with torch.no_grad():\n",
        "            outputs = model(**inputs)\n",
        "            logits = outputs.logits\n",
        "            batch_preds = torch.argmax(logits, axis=1).cpu().numpy()\n",
        "        predictions.extend(batch_preds)\n",
        "    return predictions\n",
        "\n",
        "# Get predictions for the entire dataset\n",
        "predictions = predict_sentiment(texts)\n",
        "\n",
        "# Map numeric predictions to sentiment labels\n",
        "label_map = {0: 'negative', 1: 'neutral', 2: 'positive'}\n",
        "deberta_df['predicted_sentiment'] = [label_map[pred] for pred in predictions]\n",
        "\n",
        "# Save the updated DataFrame with predictions to a new CSV file\n",
        "deberta_df.to_csv('filtered_data_with_predictions.csv', index=False)\n",
        "\n",
        "print(\"Predictions have been added to 'filtered_data_with_predictions.csv'.\")"
      ]
    }
  ],
  "metadata": {
    "accelerator": "GPU",
    "colab": {
      "gpuType": "T4",
      "provenance": []
    },
    "kernelspec": {
      "display_name": "Python 3",
      "name": "python3"
    },
    "language_info": {
      "name": "python"
    },
    "widgets": {
      "application/vnd.jupyter.widget-state+json": {
        "1a6ab5e835794174890ca481e9bd7742": {
          "model_module": "@jupyter-widgets/base",
          "model_module_version": "1.2.0",
          "model_name": "LayoutModel",
          "state": {
            "_model_module": "@jupyter-widgets/base",
            "_model_module_version": "1.2.0",
            "_model_name": "LayoutModel",
            "_view_count": null,
            "_view_module": "@jupyter-widgets/base",
            "_view_module_version": "1.2.0",
            "_view_name": "LayoutView",
            "align_content": null,
            "align_items": null,
            "align_self": null,
            "border": null,
            "bottom": null,
            "display": null,
            "flex": null,
            "flex_flow": null,
            "grid_area": null,
            "grid_auto_columns": null,
            "grid_auto_flow": null,
            "grid_auto_rows": null,
            "grid_column": null,
            "grid_gap": null,
            "grid_row": null,
            "grid_template_areas": null,
            "grid_template_columns": null,
            "grid_template_rows": null,
            "height": null,
            "justify_content": null,
            "justify_items": null,
            "left": null,
            "margin": null,
            "max_height": null,
            "max_width": null,
            "min_height": null,
            "min_width": null,
            "object_fit": null,
            "object_position": null,
            "order": null,
            "overflow": null,
            "overflow_x": null,
            "overflow_y": null,
            "padding": null,
            "right": null,
            "top": null,
            "visibility": null,
            "width": null
          }
        },
        "22f8fdbd7c8a40f3a18c43c7968afa08": {
          "model_module": "@jupyter-widgets/controls",
          "model_module_version": "1.5.0",
          "model_name": "DescriptionStyleModel",
          "state": {
            "_model_module": "@jupyter-widgets/controls",
            "_model_module_version": "1.5.0",
            "_model_name": "DescriptionStyleModel",
            "_view_count": null,
            "_view_module": "@jupyter-widgets/base",
            "_view_module_version": "1.2.0",
            "_view_name": "StyleView",
            "description_width": ""
          }
        },
        "27b87513f3864437acb283be66640461": {
          "model_module": "@jupyter-widgets/controls",
          "model_module_version": "1.5.0",
          "model_name": "DescriptionStyleModel",
          "state": {
            "_model_module": "@jupyter-widgets/controls",
            "_model_module_version": "1.5.0",
            "_model_name": "DescriptionStyleModel",
            "_view_count": null,
            "_view_module": "@jupyter-widgets/base",
            "_view_module_version": "1.2.0",
            "_view_name": "StyleView",
            "description_width": ""
          }
        },
        "28624dc371d942279272d087422efd76": {
          "model_module": "@jupyter-widgets/controls",
          "model_module_version": "1.5.0",
          "model_name": "HTMLModel",
          "state": {
            "_dom_classes": [],
            "_model_module": "@jupyter-widgets/controls",
            "_model_module_version": "1.5.0",
            "_model_name": "HTMLModel",
            "_view_count": null,
            "_view_module": "@jupyter-widgets/controls",
            "_view_module_version": "1.5.0",
            "_view_name": "HTMLView",
            "description": "",
            "description_tooltip": null,
            "layout": "IPY_MODEL_9a6ecfe59e8941b9876d05aa23619306",
            "placeholder": "​",
            "style": "IPY_MODEL_27b87513f3864437acb283be66640461",
            "value": "model.safetensors: 100%"
          }
        },
        "6ecfce172bed40c29138e907dfb12555": {
          "model_module": "@jupyter-widgets/base",
          "model_module_version": "1.2.0",
          "model_name": "LayoutModel",
          "state": {
            "_model_module": "@jupyter-widgets/base",
            "_model_module_version": "1.2.0",
            "_model_name": "LayoutModel",
            "_view_count": null,
            "_view_module": "@jupyter-widgets/base",
            "_view_module_version": "1.2.0",
            "_view_name": "LayoutView",
            "align_content": null,
            "align_items": null,
            "align_self": null,
            "border": null,
            "bottom": null,
            "display": null,
            "flex": null,
            "flex_flow": null,
            "grid_area": null,
            "grid_auto_columns": null,
            "grid_auto_flow": null,
            "grid_auto_rows": null,
            "grid_column": null,
            "grid_gap": null,
            "grid_row": null,
            "grid_template_areas": null,
            "grid_template_columns": null,
            "grid_template_rows": null,
            "height": null,
            "justify_content": null,
            "justify_items": null,
            "left": null,
            "margin": null,
            "max_height": null,
            "max_width": null,
            "min_height": null,
            "min_width": null,
            "object_fit": null,
            "object_position": null,
            "order": null,
            "overflow": null,
            "overflow_x": null,
            "overflow_y": null,
            "padding": null,
            "right": null,
            "top": null,
            "visibility": null,
            "width": null
          }
        },
        "7b22ca8fa88c438ebcd98e8f5b4e7301": {
          "model_module": "@jupyter-widgets/controls",
          "model_module_version": "1.5.0",
          "model_name": "HTMLModel",
          "state": {
            "_dom_classes": [],
            "_model_module": "@jupyter-widgets/controls",
            "_model_module_version": "1.5.0",
            "_model_name": "HTMLModel",
            "_view_count": null,
            "_view_module": "@jupyter-widgets/controls",
            "_view_module_version": "1.5.0",
            "_view_name": "HTMLView",
            "description": "",
            "description_tooltip": null,
            "layout": "IPY_MODEL_c2854ca995c64f0cb30793c943766fde",
            "placeholder": "​",
            "style": "IPY_MODEL_22f8fdbd7c8a40f3a18c43c7968afa08",
            "value": " 440M/440M [00:02&lt;00:00, 247MB/s]"
          }
        },
        "8cd77a01766c4a839c7f87fdab078f8a": {
          "model_module": "@jupyter-widgets/controls",
          "model_module_version": "1.5.0",
          "model_name": "ProgressStyleModel",
          "state": {
            "_model_module": "@jupyter-widgets/controls",
            "_model_module_version": "1.5.0",
            "_model_name": "ProgressStyleModel",
            "_view_count": null,
            "_view_module": "@jupyter-widgets/base",
            "_view_module_version": "1.2.0",
            "_view_name": "StyleView",
            "bar_color": null,
            "description_width": ""
          }
        },
        "923eeec706ef407cb25f47fa356dfdc6": {
          "model_module": "@jupyter-widgets/controls",
          "model_module_version": "1.5.0",
          "model_name": "HBoxModel",
          "state": {
            "_dom_classes": [],
            "_model_module": "@jupyter-widgets/controls",
            "_model_module_version": "1.5.0",
            "_model_name": "HBoxModel",
            "_view_count": null,
            "_view_module": "@jupyter-widgets/controls",
            "_view_module_version": "1.5.0",
            "_view_name": "HBoxView",
            "box_style": "",
            "children": [
              "IPY_MODEL_28624dc371d942279272d087422efd76",
              "IPY_MODEL_b6ed32d562b44d24bf26b0a62e48cd9d",
              "IPY_MODEL_7b22ca8fa88c438ebcd98e8f5b4e7301"
            ],
            "layout": "IPY_MODEL_1a6ab5e835794174890ca481e9bd7742"
          }
        },
        "9a6ecfe59e8941b9876d05aa23619306": {
          "model_module": "@jupyter-widgets/base",
          "model_module_version": "1.2.0",
          "model_name": "LayoutModel",
          "state": {
            "_model_module": "@jupyter-widgets/base",
            "_model_module_version": "1.2.0",
            "_model_name": "LayoutModel",
            "_view_count": null,
            "_view_module": "@jupyter-widgets/base",
            "_view_module_version": "1.2.0",
            "_view_name": "LayoutView",
            "align_content": null,
            "align_items": null,
            "align_self": null,
            "border": null,
            "bottom": null,
            "display": null,
            "flex": null,
            "flex_flow": null,
            "grid_area": null,
            "grid_auto_columns": null,
            "grid_auto_flow": null,
            "grid_auto_rows": null,
            "grid_column": null,
            "grid_gap": null,
            "grid_row": null,
            "grid_template_areas": null,
            "grid_template_columns": null,
            "grid_template_rows": null,
            "height": null,
            "justify_content": null,
            "justify_items": null,
            "left": null,
            "margin": null,
            "max_height": null,
            "max_width": null,
            "min_height": null,
            "min_width": null,
            "object_fit": null,
            "object_position": null,
            "order": null,
            "overflow": null,
            "overflow_x": null,
            "overflow_y": null,
            "padding": null,
            "right": null,
            "top": null,
            "visibility": null,
            "width": null
          }
        },
        "b6ed32d562b44d24bf26b0a62e48cd9d": {
          "model_module": "@jupyter-widgets/controls",
          "model_module_version": "1.5.0",
          "model_name": "FloatProgressModel",
          "state": {
            "_dom_classes": [],
            "_model_module": "@jupyter-widgets/controls",
            "_model_module_version": "1.5.0",
            "_model_name": "FloatProgressModel",
            "_view_count": null,
            "_view_module": "@jupyter-widgets/controls",
            "_view_module_version": "1.5.0",
            "_view_name": "ProgressView",
            "bar_style": "success",
            "description": "",
            "description_tooltip": null,
            "layout": "IPY_MODEL_6ecfce172bed40c29138e907dfb12555",
            "max": 440449768,
            "min": 0,
            "orientation": "horizontal",
            "style": "IPY_MODEL_8cd77a01766c4a839c7f87fdab078f8a",
            "value": 440449768
          }
        },
        "c2854ca995c64f0cb30793c943766fde": {
          "model_module": "@jupyter-widgets/base",
          "model_module_version": "1.2.0",
          "model_name": "LayoutModel",
          "state": {
            "_model_module": "@jupyter-widgets/base",
            "_model_module_version": "1.2.0",
            "_model_name": "LayoutModel",
            "_view_count": null,
            "_view_module": "@jupyter-widgets/base",
            "_view_module_version": "1.2.0",
            "_view_name": "LayoutView",
            "align_content": null,
            "align_items": null,
            "align_self": null,
            "border": null,
            "bottom": null,
            "display": null,
            "flex": null,
            "flex_flow": null,
            "grid_area": null,
            "grid_auto_columns": null,
            "grid_auto_flow": null,
            "grid_auto_rows": null,
            "grid_column": null,
            "grid_gap": null,
            "grid_row": null,
            "grid_template_areas": null,
            "grid_template_columns": null,
            "grid_template_rows": null,
            "height": null,
            "justify_content": null,
            "justify_items": null,
            "left": null,
            "margin": null,
            "max_height": null,
            "max_width": null,
            "min_height": null,
            "min_width": null,
            "object_fit": null,
            "object_position": null,
            "order": null,
            "overflow": null,
            "overflow_x": null,
            "overflow_y": null,
            "padding": null,
            "right": null,
            "top": null,
            "visibility": null,
            "width": null
          }
        }
      }
    }
  },
  "nbformat": 4,
  "nbformat_minor": 0
}
